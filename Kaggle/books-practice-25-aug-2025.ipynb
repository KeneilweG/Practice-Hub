{
 "cells": [
  {
   "cell_type": "code",
   "execution_count": 1,
   "id": "7b40da18",
   "metadata": {
    "_cell_guid": "b1076dfc-b9ad-4769-8c92-a6c4dae69d19",
    "_uuid": "8f2839f25d086af736a60e9eeb907d3b93b6e0e5",
    "execution": {
     "iopub.execute_input": "2025-08-25T09:03:58.609997Z",
     "iopub.status.busy": "2025-08-25T09:03:58.609696Z",
     "iopub.status.idle": "2025-08-25T09:04:00.808691Z",
     "shell.execute_reply": "2025-08-25T09:04:00.807723Z"
    },
    "papermill": {
     "duration": 2.208723,
     "end_time": "2025-08-25T09:04:00.810397",
     "exception": false,
     "start_time": "2025-08-25T09:03:58.601674",
     "status": "completed"
    },
    "tags": []
   },
   "outputs": [
    {
     "name": "stdout",
     "output_type": "stream",
     "text": [
      "/kaggle/input/booooks/clean_books.csv\n"
     ]
    }
   ],
   "source": [
    "# This Python 3 environment comes with many helpful analytics libraries installed\n",
    "# It is defined by the kaggle/python Docker image: https://github.com/kaggle/docker-python\n",
    "# For example, here's several helpful packages to load\n",
    "\n",
    "import numpy as np # linear algebra\n",
    "import pandas as pd # data processing, CSV file I/O (e.g. pd.read_csv)\n",
    "\n",
    "# Input data files are available in the read-only \"../input/\" directory\n",
    "# For example, running this (by clicking run or pressing Shift+Enter) will list all files under the input directory\n",
    "\n",
    "import os\n",
    "for dirname, _, filenames in os.walk('/kaggle/input'):\n",
    "    for filename in filenames:\n",
    "        print(os.path.join(dirname, filename))\n",
    "\n",
    "# You can write up to 20GB to the current directory (/kaggle/working/) that gets preserved as output when you create a version using \"Save & Run All\" \n",
    "# You can also write temporary files to /kaggle/temp/, but they won't be saved outside of the current session"
   ]
  },
  {
   "cell_type": "markdown",
   "id": "7fc60935",
   "metadata": {
    "papermill": {
     "duration": 0.005628,
     "end_time": "2025-08-25T09:04:00.822543",
     "exception": false,
     "start_time": "2025-08-25T09:04:00.816915",
     "status": "completed"
    },
    "tags": []
   },
   "source": [
    "# Import"
   ]
  },
  {
   "cell_type": "code",
   "execution_count": 2,
   "id": "7d55e759",
   "metadata": {
    "execution": {
     "iopub.execute_input": "2025-08-25T09:04:00.835933Z",
     "iopub.status.busy": "2025-08-25T09:04:00.835507Z",
     "iopub.status.idle": "2025-08-25T09:04:00.840072Z",
     "shell.execute_reply": "2025-08-25T09:04:00.839290Z"
    },
    "papermill": {
     "duration": 0.013248,
     "end_time": "2025-08-25T09:04:00.841812",
     "exception": false,
     "start_time": "2025-08-25T09:04:00.828564",
     "status": "completed"
    },
    "tags": []
   },
   "outputs": [],
   "source": [
    "import pandas as pd\n",
    "import numpy as np"
   ]
  },
  {
   "cell_type": "markdown",
   "id": "8a0832f9",
   "metadata": {
    "papermill": {
     "duration": 0.005487,
     "end_time": "2025-08-25T09:04:00.854058",
     "exception": false,
     "start_time": "2025-08-25T09:04:00.848571",
     "status": "completed"
    },
    "tags": []
   },
   "source": [
    "# Read the data using the dataframe and returning the first 5 rows"
   ]
  },
  {
   "cell_type": "code",
   "execution_count": 3,
   "id": "947336ac",
   "metadata": {
    "execution": {
     "iopub.execute_input": "2025-08-25T09:04:00.868332Z",
     "iopub.status.busy": "2025-08-25T09:04:00.867991Z",
     "iopub.status.idle": "2025-08-25T09:04:00.924502Z",
     "shell.execute_reply": "2025-08-25T09:04:00.923494Z"
    },
    "papermill": {
     "duration": 0.065654,
     "end_time": "2025-08-25T09:04:00.926173",
     "exception": false,
     "start_time": "2025-08-25T09:04:00.860519",
     "status": "completed"
    },
    "tags": []
   },
   "outputs": [
    {
     "data": {
      "text/html": [
       "<div>\n",
       "<style scoped>\n",
       "    .dataframe tbody tr th:only-of-type {\n",
       "        vertical-align: middle;\n",
       "    }\n",
       "\n",
       "    .dataframe tbody tr th {\n",
       "        vertical-align: top;\n",
       "    }\n",
       "\n",
       "    .dataframe thead th {\n",
       "        text-align: right;\n",
       "    }\n",
       "</style>\n",
       "<table border=\"1\" class=\"dataframe\">\n",
       "  <thead>\n",
       "    <tr style=\"text-align: right;\">\n",
       "      <th></th>\n",
       "      <th>name</th>\n",
       "      <th>author</th>\n",
       "      <th>rating</th>\n",
       "      <th>year</th>\n",
       "      <th>genre</th>\n",
       "    </tr>\n",
       "  </thead>\n",
       "  <tbody>\n",
       "    <tr>\n",
       "      <th>0</th>\n",
       "      <td>10-Day Green Smoothie Cleanse</td>\n",
       "      <td>JJ Smith</td>\n",
       "      <td>4.7</td>\n",
       "      <td>2016</td>\n",
       "      <td>Non Fiction</td>\n",
       "    </tr>\n",
       "    <tr>\n",
       "      <th>1</th>\n",
       "      <td>11/22/63: A Novel</td>\n",
       "      <td>Stephen King</td>\n",
       "      <td>4.6</td>\n",
       "      <td>2011</td>\n",
       "      <td>Fiction</td>\n",
       "    </tr>\n",
       "    <tr>\n",
       "      <th>2</th>\n",
       "      <td>12 Rules for Life: An Antidote to Chaos</td>\n",
       "      <td>Jordan B. Peterson</td>\n",
       "      <td>4.7</td>\n",
       "      <td>2018</td>\n",
       "      <td>Non Fiction</td>\n",
       "    </tr>\n",
       "    <tr>\n",
       "      <th>3</th>\n",
       "      <td>1984 (Signet Classics)</td>\n",
       "      <td>George Orwell</td>\n",
       "      <td>4.7</td>\n",
       "      <td>2017</td>\n",
       "      <td>Fiction</td>\n",
       "    </tr>\n",
       "    <tr>\n",
       "      <th>4</th>\n",
       "      <td>5,000 Awesome Facts (About Everything!) (Natio...</td>\n",
       "      <td>National Geographic Kids</td>\n",
       "      <td>4.8</td>\n",
       "      <td>2019</td>\n",
       "      <td>Childrens</td>\n",
       "    </tr>\n",
       "  </tbody>\n",
       "</table>\n",
       "</div>"
      ],
      "text/plain": [
       "                                                name  \\\n",
       "0                      10-Day Green Smoothie Cleanse   \n",
       "1                                  11/22/63: A Novel   \n",
       "2            12 Rules for Life: An Antidote to Chaos   \n",
       "3                             1984 (Signet Classics)   \n",
       "4  5,000 Awesome Facts (About Everything!) (Natio...   \n",
       "\n",
       "                     author  rating  year        genre  \n",
       "0                  JJ Smith     4.7  2016  Non Fiction  \n",
       "1              Stephen King     4.6  2011      Fiction  \n",
       "2        Jordan B. Peterson     4.7  2018  Non Fiction  \n",
       "3             George Orwell     4.7  2017      Fiction  \n",
       "4  National Geographic Kids     4.8  2019    Childrens  "
      ]
     },
     "execution_count": 3,
     "metadata": {},
     "output_type": "execute_result"
    }
   ],
   "source": [
    "books=pd.read_csv('/kaggle/input/booooks/clean_books.csv')\n",
    "books.head()"
   ]
  },
  {
   "cell_type": "markdown",
   "id": "cd30cc46",
   "metadata": {
    "papermill": {
     "duration": 0.006904,
     "end_time": "2025-08-25T09:04:00.939447",
     "exception": false,
     "start_time": "2025-08-25T09:04:00.932543",
     "status": "completed"
    },
    "tags": []
   },
   "source": [
    "# Checking null values and the data types"
   ]
  },
  {
   "cell_type": "code",
   "execution_count": 4,
   "id": "4b2c525a",
   "metadata": {
    "execution": {
     "iopub.execute_input": "2025-08-25T09:04:00.953033Z",
     "iopub.status.busy": "2025-08-25T09:04:00.952204Z",
     "iopub.status.idle": "2025-08-25T09:04:00.982470Z",
     "shell.execute_reply": "2025-08-25T09:04:00.981440Z"
    },
    "papermill": {
     "duration": 0.038755,
     "end_time": "2025-08-25T09:04:00.984058",
     "exception": false,
     "start_time": "2025-08-25T09:04:00.945303",
     "status": "completed"
    },
    "tags": []
   },
   "outputs": [
    {
     "name": "stdout",
     "output_type": "stream",
     "text": [
      "<class 'pandas.core.frame.DataFrame'>\n",
      "RangeIndex: 350 entries, 0 to 349\n",
      "Data columns (total 5 columns):\n",
      " #   Column  Non-Null Count  Dtype  \n",
      "---  ------  --------------  -----  \n",
      " 0   name    350 non-null    object \n",
      " 1   author  350 non-null    object \n",
      " 2   rating  350 non-null    float64\n",
      " 3   year    350 non-null    int64  \n",
      " 4   genre   350 non-null    object \n",
      "dtypes: float64(1), int64(1), object(3)\n",
      "memory usage: 13.8+ KB\n"
     ]
    }
   ],
   "source": [
    "books.info()"
   ]
  },
  {
   "cell_type": "markdown",
   "id": "e6eb4ff1",
   "metadata": {
    "papermill": {
     "duration": 0.005856,
     "end_time": "2025-08-25T09:04:00.996267",
     "exception": false,
     "start_time": "2025-08-25T09:04:00.990411",
     "status": "completed"
    },
    "tags": []
   },
   "source": [
    "# Closer look at categorical columns"
   ]
  },
  {
   "cell_type": "code",
   "execution_count": 5,
   "id": "aa2d6399",
   "metadata": {
    "execution": {
     "iopub.execute_input": "2025-08-25T09:04:01.009579Z",
     "iopub.status.busy": "2025-08-25T09:04:01.009273Z",
     "iopub.status.idle": "2025-08-25T09:04:01.017557Z",
     "shell.execute_reply": "2025-08-25T09:04:01.016618Z"
    },
    "papermill": {
     "duration": 0.016922,
     "end_time": "2025-08-25T09:04:01.019333",
     "exception": false,
     "start_time": "2025-08-25T09:04:01.002411",
     "status": "completed"
    },
    "tags": []
   },
   "outputs": [
    {
     "data": {
      "text/plain": [
       "genre\n",
       "Non Fiction    179\n",
       "Fiction        131\n",
       "Childrens       40\n",
       "Name: count, dtype: int64"
      ]
     },
     "execution_count": 5,
     "metadata": {},
     "output_type": "execute_result"
    }
   ],
   "source": [
    "books.value_counts('genre')"
   ]
  },
  {
   "cell_type": "markdown",
   "id": "26a60810",
   "metadata": {
    "papermill": {
     "duration": 0.005982,
     "end_time": "2025-08-25T09:04:01.031959",
     "exception": false,
     "start_time": "2025-08-25T09:04:01.025977",
     "status": "completed"
    },
    "tags": []
   },
   "source": [
    "# Closer look at numerical columns"
   ]
  },
  {
   "cell_type": "code",
   "execution_count": 6,
   "id": "882a3cf2",
   "metadata": {
    "execution": {
     "iopub.execute_input": "2025-08-25T09:04:01.045639Z",
     "iopub.status.busy": "2025-08-25T09:04:01.045328Z",
     "iopub.status.idle": "2025-08-25T09:04:01.067916Z",
     "shell.execute_reply": "2025-08-25T09:04:01.066959Z"
    },
    "papermill": {
     "duration": 0.031378,
     "end_time": "2025-08-25T09:04:01.069531",
     "exception": false,
     "start_time": "2025-08-25T09:04:01.038153",
     "status": "completed"
    },
    "tags": []
   },
   "outputs": [
    {
     "data": {
      "text/html": [
       "<div>\n",
       "<style scoped>\n",
       "    .dataframe tbody tr th:only-of-type {\n",
       "        vertical-align: middle;\n",
       "    }\n",
       "\n",
       "    .dataframe tbody tr th {\n",
       "        vertical-align: top;\n",
       "    }\n",
       "\n",
       "    .dataframe thead th {\n",
       "        text-align: right;\n",
       "    }\n",
       "</style>\n",
       "<table border=\"1\" class=\"dataframe\">\n",
       "  <thead>\n",
       "    <tr style=\"text-align: right;\">\n",
       "      <th></th>\n",
       "      <th>rating</th>\n",
       "      <th>year</th>\n",
       "    </tr>\n",
       "  </thead>\n",
       "  <tbody>\n",
       "    <tr>\n",
       "      <th>count</th>\n",
       "      <td>350.000000</td>\n",
       "      <td>350.000000</td>\n",
       "    </tr>\n",
       "    <tr>\n",
       "      <th>mean</th>\n",
       "      <td>4.608571</td>\n",
       "      <td>2013.508571</td>\n",
       "    </tr>\n",
       "    <tr>\n",
       "      <th>std</th>\n",
       "      <td>0.226941</td>\n",
       "      <td>3.284711</td>\n",
       "    </tr>\n",
       "    <tr>\n",
       "      <th>min</th>\n",
       "      <td>3.300000</td>\n",
       "      <td>2009.000000</td>\n",
       "    </tr>\n",
       "    <tr>\n",
       "      <th>25%</th>\n",
       "      <td>4.500000</td>\n",
       "      <td>2010.000000</td>\n",
       "    </tr>\n",
       "    <tr>\n",
       "      <th>50%</th>\n",
       "      <td>4.600000</td>\n",
       "      <td>2013.000000</td>\n",
       "    </tr>\n",
       "    <tr>\n",
       "      <th>75%</th>\n",
       "      <td>4.800000</td>\n",
       "      <td>2016.000000</td>\n",
       "    </tr>\n",
       "    <tr>\n",
       "      <th>max</th>\n",
       "      <td>4.900000</td>\n",
       "      <td>2019.000000</td>\n",
       "    </tr>\n",
       "  </tbody>\n",
       "</table>\n",
       "</div>"
      ],
      "text/plain": [
       "           rating         year\n",
       "count  350.000000   350.000000\n",
       "mean     4.608571  2013.508571\n",
       "std      0.226941     3.284711\n",
       "min      3.300000  2009.000000\n",
       "25%      4.500000  2010.000000\n",
       "50%      4.600000  2013.000000\n",
       "75%      4.800000  2016.000000\n",
       "max      4.900000  2019.000000"
      ]
     },
     "execution_count": 6,
     "metadata": {},
     "output_type": "execute_result"
    }
   ],
   "source": [
    "books.describe()"
   ]
  },
  {
   "cell_type": "markdown",
   "id": "552c78f6",
   "metadata": {
    "papermill": {
     "duration": 0.006229,
     "end_time": "2025-08-25T09:04:01.082271",
     "exception": false,
     "start_time": "2025-08-25T09:04:01.076042",
     "status": "completed"
    },
    "tags": []
   },
   "source": [
    "# Visualizing numerical data"
   ]
  },
  {
   "cell_type": "code",
   "execution_count": 7,
   "id": "09c1a147",
   "metadata": {
    "execution": {
     "iopub.execute_input": "2025-08-25T09:04:01.096888Z",
     "iopub.status.busy": "2025-08-25T09:04:01.096472Z",
     "iopub.status.idle": "2025-08-25T09:04:03.846661Z",
     "shell.execute_reply": "2025-08-25T09:04:03.845517Z"
    },
    "papermill": {
     "duration": 2.759633,
     "end_time": "2025-08-25T09:04:03.848230",
     "exception": false,
     "start_time": "2025-08-25T09:04:01.088597",
     "status": "completed"
    },
    "tags": []
   },
   "outputs": [
    {
     "name": "stderr",
     "output_type": "stream",
     "text": [
      "/usr/local/lib/python3.11/dist-packages/seaborn/_oldcore.py:1119: FutureWarning: use_inf_as_na option is deprecated and will be removed in a future version. Convert inf values to NaN before operating instead.\n",
      "  with pd.option_context('mode.use_inf_as_na', True):\n"
     ]
    },
    {
     "data": {
      "image/png": "[encoded data removed]",
      "text/plain": [
       "<Figure size 640x480 with 1 Axes>"
      ]
     },
     "metadata": {},
     "output_type": "display_data"
    }
   ],
   "source": [
    "import seaborn as sns\n",
    "import matplotlib.pyplot as plt\n",
    "sns.histplot(data=books, x='rating')\n",
    "plt.show()"
   ]
  },
  {
   "cell_type": "markdown",
   "id": "f66b8f59",
   "metadata": {
    "papermill": {
     "duration": 0.007283,
     "end_time": "2025-08-25T09:04:03.862563",
     "exception": false,
     "start_time": "2025-08-25T09:04:03.855280",
     "status": "completed"
    },
    "tags": []
   },
   "source": [
    "# Adjusting bin width"
   ]
  },
  {
   "cell_type": "code",
   "execution_count": 8,
   "id": "d05e0c32",
   "metadata": {
    "execution": {
     "iopub.execute_input": "2025-08-25T09:04:03.877294Z",
     "iopub.status.busy": "2025-08-25T09:04:03.876764Z",
     "iopub.status.idle": "2025-08-25T09:04:04.086971Z",
     "shell.execute_reply": "2025-08-25T09:04:04.085969Z"
    },
    "papermill": {
     "duration": 0.21964,
     "end_time": "2025-08-25T09:04:04.088715",
     "exception": false,
     "start_time": "2025-08-25T09:04:03.869075",
     "status": "completed"
    },
    "tags": []
   },
   "outputs": [
    {
     "name": "stderr",
     "output_type": "stream",
     "text": [
      "/usr/local/lib/python3.11/dist-packages/seaborn/_oldcore.py:1119: FutureWarning: use_inf_as_na option is deprecated and will be removed in a future version. Convert inf values to NaN before operating instead.\n",
      "  with pd.option_context('mode.use_inf_as_na', True):\n"
     ]
    },
    {
     "data": {
      "image/png": "[encoded data removed]",
      "text/plain": [
       "<Figure size 640x480 with 1 Axes>"
      ]
     },
     "metadata": {},
     "output_type": "display_data"
    }
   ],
   "source": [
    "\n",
    "sns.histplot(data=books, x='rating', binwidth=0.1)\n",
    "plt.show()"
   ]
  },
  {
   "cell_type": "markdown",
   "id": "2972a52a",
   "metadata": {
    "papermill": {
     "duration": 0.007323,
     "end_time": "2025-08-25T09:04:04.103775",
     "exception": false,
     "start_time": "2025-08-25T09:04:04.096452",
     "status": "completed"
    },
    "tags": []
   },
   "source": [
    "# Validating data types"
   ]
  },
  {
   "cell_type": "code",
   "execution_count": 9,
   "id": "cf63df1f",
   "metadata": {
    "execution": {
     "iopub.execute_input": "2025-08-25T09:04:04.119674Z",
     "iopub.status.busy": "2025-08-25T09:04:04.119093Z",
     "iopub.status.idle": "2025-08-25T09:04:04.126140Z",
     "shell.execute_reply": "2025-08-25T09:04:04.125279Z"
    },
    "papermill": {
     "duration": 0.016497,
     "end_time": "2025-08-25T09:04:04.127713",
     "exception": false,
     "start_time": "2025-08-25T09:04:04.111216",
     "status": "completed"
    },
    "tags": []
   },
   "outputs": [
    {
     "data": {
      "text/plain": [
       "name       object\n",
       "author     object\n",
       "rating    float64\n",
       "year        int64\n",
       "genre      object\n",
       "dtype: object"
      ]
     },
     "execution_count": 9,
     "metadata": {},
     "output_type": "execute_result"
    }
   ],
   "source": [
    "books.dtypes"
   ]
  },
  {
   "cell_type": "markdown",
   "id": "193fe572",
   "metadata": {
    "papermill": {
     "duration": 0.007505,
     "end_time": "2025-08-25T09:04:04.142934",
     "exception": false,
     "start_time": "2025-08-25T09:04:04.135429",
     "status": "completed"
    },
    "tags": []
   },
   "source": [
    "# Updating and playing around data types"
   ]
  },
  {
   "cell_type": "code",
   "execution_count": 10,
   "id": "5b009a30",
   "metadata": {
    "execution": {
     "iopub.execute_input": "2025-08-25T09:04:04.158280Z",
     "iopub.status.busy": "2025-08-25T09:04:04.157948Z",
     "iopub.status.idle": "2025-08-25T09:04:04.162786Z",
     "shell.execute_reply": "2025-08-25T09:04:04.161922Z"
    },
    "papermill": {
     "duration": 0.014294,
     "end_time": "2025-08-25T09:04:04.164214",
     "exception": false,
     "start_time": "2025-08-25T09:04:04.149920",
     "status": "completed"
    },
    "tags": []
   },
   "outputs": [],
   "source": [
    "books['year']=books['year'].astype('float')"
   ]
  },
  {
   "cell_type": "markdown",
   "id": "e77ab329",
   "metadata": {
    "papermill": {
     "duration": 0.007416,
     "end_time": "2025-08-25T09:04:04.179071",
     "exception": false,
     "start_time": "2025-08-25T09:04:04.171655",
     "status": "completed"
    },
    "tags": []
   },
   "source": [
    "# Checking whether the year column is stored as float(testing stage)"
   ]
  },
  {
   "cell_type": "code",
   "execution_count": 11,
   "id": "534682b3",
   "metadata": {
    "execution": {
     "iopub.execute_input": "2025-08-25T09:04:04.195101Z",
     "iopub.status.busy": "2025-08-25T09:04:04.194762Z",
     "iopub.status.idle": "2025-08-25T09:04:04.202666Z",
     "shell.execute_reply": "2025-08-25T09:04:04.201536Z"
    },
    "papermill": {
     "duration": 0.017783,
     "end_time": "2025-08-25T09:04:04.204400",
     "exception": false,
     "start_time": "2025-08-25T09:04:04.186617",
     "status": "completed"
    },
    "tags": []
   },
   "outputs": [
    {
     "data": {
      "text/plain": [
       "name       object\n",
       "author     object\n",
       "rating    float64\n",
       "year      float64\n",
       "genre      object\n",
       "dtype: object"
      ]
     },
     "execution_count": 11,
     "metadata": {},
     "output_type": "execute_result"
    }
   ],
   "source": [
    "books.dtypes"
   ]
  },
  {
   "cell_type": "markdown",
   "id": "adf8f324",
   "metadata": {
    "papermill": {
     "duration": 0.006797,
     "end_time": "2025-08-25T09:04:04.218557",
     "exception": false,
     "start_time": "2025-08-25T09:04:04.211760",
     "status": "completed"
    },
    "tags": []
   },
   "source": [
    "# Updating to the correct data type"
   ]
  },
  {
   "cell_type": "code",
   "execution_count": 12,
   "id": "4504f3b4",
   "metadata": {
    "execution": {
     "iopub.execute_input": "2025-08-25T09:04:04.234843Z",
     "iopub.status.busy": "2025-08-25T09:04:04.234448Z",
     "iopub.status.idle": "2025-08-25T09:04:04.240168Z",
     "shell.execute_reply": "2025-08-25T09:04:04.238935Z"
    },
    "papermill": {
     "duration": 0.017356,
     "end_time": "2025-08-25T09:04:04.243062",
     "exception": false,
     "start_time": "2025-08-25T09:04:04.225706",
     "status": "completed"
    },
    "tags": []
   },
   "outputs": [],
   "source": [
    "books['year']=books['year'].astype('int')"
   ]
  },
  {
   "cell_type": "code",
   "execution_count": 13,
   "id": "2128abb5",
   "metadata": {
    "execution": {
     "iopub.execute_input": "2025-08-25T09:04:04.259742Z",
     "iopub.status.busy": "2025-08-25T09:04:04.259274Z",
     "iopub.status.idle": "2025-08-25T09:04:04.266500Z",
     "shell.execute_reply": "2025-08-25T09:04:04.265639Z"
    },
    "papermill": {
     "duration": 0.016988,
     "end_time": "2025-08-25T09:04:04.267975",
     "exception": false,
     "start_time": "2025-08-25T09:04:04.250987",
     "status": "completed"
    },
    "tags": []
   },
   "outputs": [
    {
     "data": {
      "text/plain": [
       "name       object\n",
       "author     object\n",
       "rating    float64\n",
       "year        int64\n",
       "genre      object\n",
       "dtype: object"
      ]
     },
     "execution_count": 13,
     "metadata": {},
     "output_type": "execute_result"
    }
   ],
   "source": [
    "books.dtypes"
   ]
  },
  {
   "cell_type": "code",
   "execution_count": 14,
   "id": "d73651e7",
   "metadata": {
    "execution": {
     "iopub.execute_input": "2025-08-25T09:04:04.284190Z",
     "iopub.status.busy": "2025-08-25T09:04:04.283868Z",
     "iopub.status.idle": "2025-08-25T09:04:04.288222Z",
     "shell.execute_reply": "2025-08-25T09:04:04.287302Z"
    },
    "papermill": {
     "duration": 0.014598,
     "end_time": "2025-08-25T09:04:04.289975",
     "exception": false,
     "start_time": "2025-08-25T09:04:04.275377",
     "status": "completed"
    },
    "tags": []
   },
   "outputs": [],
   "source": [
    "#CommonDatatypes\n",
    "#str,int,float,dict,list,bool"
   ]
  },
  {
   "cell_type": "markdown",
   "id": "70d4861c",
   "metadata": {
    "papermill": {
     "duration": 0.007284,
     "end_time": "2025-08-25T09:04:04.304961",
     "exception": false,
     "start_time": "2025-08-25T09:04:04.297677",
     "status": "completed"
    },
    "tags": []
   },
   "source": [
    "# Validate categorical data (inside the column)"
   ]
  },
  {
   "cell_type": "code",
   "execution_count": 15,
   "id": "aea8a27a",
   "metadata": {
    "execution": {
     "iopub.execute_input": "2025-08-25T09:04:04.320770Z",
     "iopub.status.busy": "2025-08-25T09:04:04.320499Z",
     "iopub.status.idle": "2025-08-25T09:04:04.328836Z",
     "shell.execute_reply": "2025-08-25T09:04:04.327688Z"
    },
    "papermill": {
     "duration": 0.018052,
     "end_time": "2025-08-25T09:04:04.330467",
     "exception": false,
     "start_time": "2025-08-25T09:04:04.312415",
     "status": "completed"
    },
    "tags": []
   },
   "outputs": [
    {
     "data": {
      "text/plain": [
       "genre\n",
       "Non Fiction    179\n",
       "Fiction        131\n",
       "Childrens       40\n",
       "Name: count, dtype: int64"
      ]
     },
     "execution_count": 15,
     "metadata": {},
     "output_type": "execute_result"
    }
   ],
   "source": [
    "books.value_counts('genre')"
   ]
  },
  {
   "cell_type": "code",
   "execution_count": 16,
   "id": "d6f11f90",
   "metadata": {
    "execution": {
     "iopub.execute_input": "2025-08-25T09:04:04.346929Z",
     "iopub.status.busy": "2025-08-25T09:04:04.346609Z",
     "iopub.status.idle": "2025-08-25T09:04:04.358378Z",
     "shell.execute_reply": "2025-08-25T09:04:04.357425Z"
    },
    "papermill": {
     "duration": 0.021963,
     "end_time": "2025-08-25T09:04:04.360136",
     "exception": false,
     "start_time": "2025-08-25T09:04:04.338173",
     "status": "completed"
    },
    "tags": []
   },
   "outputs": [
    {
     "data": {
      "text/plain": [
       "0      False\n",
       "1       True\n",
       "2      False\n",
       "3       True\n",
       "4      False\n",
       "       ...  \n",
       "345    False\n",
       "346     True\n",
       "347    False\n",
       "348     True\n",
       "349    False\n",
       "Name: genre, Length: 350, dtype: bool"
      ]
     },
     "execution_count": 16,
     "metadata": {},
     "output_type": "execute_result"
    }
   ],
   "source": [
    "books['genre'].isin(['Fiction','Non Friction'])"
   ]
  },
  {
   "cell_type": "markdown",
   "id": "1e4588e7",
   "metadata": {
    "papermill": {
     "duration": 0.007295,
     "end_time": "2025-08-25T09:04:04.375462",
     "exception": false,
     "start_time": "2025-08-25T09:04:04.368167",
     "status": "completed"
    },
    "tags": []
   },
   "source": [
    "# True for Fiction and No Fiction AND False for Children"
   ]
  },
  {
   "cell_type": "code",
   "execution_count": 17,
   "id": "cb63b3c6",
   "metadata": {
    "execution": {
     "iopub.execute_input": "2025-08-25T09:04:04.392192Z",
     "iopub.status.busy": "2025-08-25T09:04:04.391879Z",
     "iopub.status.idle": "2025-08-25T09:04:04.400274Z",
     "shell.execute_reply": "2025-08-25T09:04:04.399338Z"
    },
    "papermill": {
     "duration": 0.018891,
     "end_time": "2025-08-25T09:04:04.401748",
     "exception": false,
     "start_time": "2025-08-25T09:04:04.382857",
     "status": "completed"
    },
    "tags": []
   },
   "outputs": [
    {
     "data": {
      "text/plain": [
       "0      False\n",
       "1      False\n",
       "2      False\n",
       "3      False\n",
       "4      False\n",
       "       ...  \n",
       "345    False\n",
       "346    False\n",
       "347    False\n",
       "348    False\n",
       "349    False\n",
       "Name: genre, Length: 350, dtype: bool"
      ]
     },
     "execution_count": 17,
     "metadata": {},
     "output_type": "execute_result"
    }
   ],
   "source": [
    "books['genre'].isin(['children'])"
   ]
  },
  {
   "cell_type": "markdown",
   "id": "e620173a",
   "metadata": {
    "papermill": {
     "duration": 0.008059,
     "end_time": "2025-08-25T09:04:04.487419",
     "exception": false,
     "start_time": "2025-08-25T09:04:04.479360",
     "status": "completed"
    },
    "tags": []
   },
   "source": [
    "# Data summarization"
   ]
  },
  {
   "cell_type": "code",
   "execution_count": 18,
   "id": "fff34323",
   "metadata": {
    "execution": {
     "iopub.execute_input": "2025-08-25T09:04:04.504266Z",
     "iopub.status.busy": "2025-08-25T09:04:04.503910Z",
     "iopub.status.idle": "2025-08-25T09:04:04.519361Z",
     "shell.execute_reply": "2025-08-25T09:04:04.518421Z"
    },
    "papermill": {
     "duration": 0.025857,
     "end_time": "2025-08-25T09:04:04.521027",
     "exception": false,
     "start_time": "2025-08-25T09:04:04.495170",
     "status": "completed"
    },
    "tags": []
   },
   "outputs": [
    {
     "data": {
      "text/html": [
       "<div>\n",
       "<style scoped>\n",
       "    .dataframe tbody tr th:only-of-type {\n",
       "        vertical-align: middle;\n",
       "    }\n",
       "\n",
       "    .dataframe tbody tr th {\n",
       "        vertical-align: top;\n",
       "    }\n",
       "\n",
       "    .dataframe thead th {\n",
       "        text-align: right;\n",
       "    }\n",
       "</style>\n",
       "<table border=\"1\" class=\"dataframe\">\n",
       "  <thead>\n",
       "    <tr style=\"text-align: right;\">\n",
       "      <th></th>\n",
       "      <th>rating</th>\n",
       "      <th>year</th>\n",
       "    </tr>\n",
       "    <tr>\n",
       "      <th>genre</th>\n",
       "      <th></th>\n",
       "      <th></th>\n",
       "    </tr>\n",
       "  </thead>\n",
       "  <tbody>\n",
       "    <tr>\n",
       "      <th>Childrens</th>\n",
       "      <td>4.780000</td>\n",
       "      <td>2015.075000</td>\n",
       "    </tr>\n",
       "    <tr>\n",
       "      <th>Fiction</th>\n",
       "      <td>4.570229</td>\n",
       "      <td>2013.022901</td>\n",
       "    </tr>\n",
       "    <tr>\n",
       "      <th>Non Fiction</th>\n",
       "      <td>4.598324</td>\n",
       "      <td>2013.513966</td>\n",
       "    </tr>\n",
       "  </tbody>\n",
       "</table>\n",
       "</div>"
      ],
      "text/plain": [
       "               rating         year\n",
       "genre                             \n",
       "Childrens    4.780000  2015.075000\n",
       "Fiction      4.570229  2013.022901\n",
       "Non Fiction  4.598324  2013.513966"
      ]
     },
     "execution_count": 18,
     "metadata": {},
     "output_type": "execute_result"
    }
   ],
   "source": [
    "books[['genre', 'rating','year']].groupby('genre').mean()"
   ]
  },
  {
   "cell_type": "markdown",
   "id": "6d2b88a5",
   "metadata": {
    "papermill": {
     "duration": 0.007647,
     "end_time": "2025-08-25T09:04:04.536564",
     "exception": false,
     "start_time": "2025-08-25T09:04:04.528917",
     "status": "completed"
    },
    "tags": []
   },
   "source": [
    "# Aggregating ungrouped data AND applies to numerical columns"
   ]
  },
  {
   "cell_type": "code",
   "execution_count": 19,
   "id": "55ab7e01",
   "metadata": {
    "execution": {
     "iopub.execute_input": "2025-08-25T09:04:04.554047Z",
     "iopub.status.busy": "2025-08-25T09:04:04.553340Z",
     "iopub.status.idle": "2025-08-25T09:04:04.566338Z",
     "shell.execute_reply": "2025-08-25T09:04:04.565439Z"
    },
    "papermill": {
     "duration": 0.023444,
     "end_time": "2025-08-25T09:04:04.567850",
     "exception": false,
     "start_time": "2025-08-25T09:04:04.544406",
     "status": "completed"
    },
    "tags": []
   },
   "outputs": [
    {
     "data": {
      "text/html": [
       "<div>\n",
       "<style scoped>\n",
       "    .dataframe tbody tr th:only-of-type {\n",
       "        vertical-align: middle;\n",
       "    }\n",
       "\n",
       "    .dataframe tbody tr th {\n",
       "        vertical-align: top;\n",
       "    }\n",
       "\n",
       "    .dataframe thead th {\n",
       "        text-align: right;\n",
       "    }\n",
       "</style>\n",
       "<table border=\"1\" class=\"dataframe\">\n",
       "  <thead>\n",
       "    <tr style=\"text-align: right;\">\n",
       "      <th></th>\n",
       "      <th>rating</th>\n",
       "      <th>year</th>\n",
       "    </tr>\n",
       "  </thead>\n",
       "  <tbody>\n",
       "    <tr>\n",
       "      <th>mean</th>\n",
       "      <td>4.608571</td>\n",
       "      <td>2013.508571</td>\n",
       "    </tr>\n",
       "    <tr>\n",
       "      <th>std</th>\n",
       "      <td>0.226941</td>\n",
       "      <td>3.284711</td>\n",
       "    </tr>\n",
       "  </tbody>\n",
       "</table>\n",
       "</div>"
      ],
      "text/plain": [
       "        rating         year\n",
       "mean  4.608571  2013.508571\n",
       "std   0.226941     3.284711"
      ]
     },
     "execution_count": 19,
     "metadata": {},
     "output_type": "execute_result"
    }
   ],
   "source": [
    "#df[['columns separated with a comma']. agg(['aggfunction separated by ,'])]\n",
    "books[['rating','year']].agg(['mean','std'])"
   ]
  },
  {
   "cell_type": "markdown",
   "id": "0e88d375",
   "metadata": {
    "papermill": {
     "duration": 0.007568,
     "end_time": "2025-08-25T09:04:04.583403",
     "exception": false,
     "start_time": "2025-08-25T09:04:04.575835",
     "status": "completed"
    },
    "tags": []
   },
   "source": [
    "# Using the dictionary to specify aggregations for columns"
   ]
  },
  {
   "cell_type": "code",
   "execution_count": 20,
   "id": "93b41b3b",
   "metadata": {
    "execution": {
     "iopub.execute_input": "2025-08-25T09:04:04.600528Z",
     "iopub.status.busy": "2025-08-25T09:04:04.600152Z",
     "iopub.status.idle": "2025-08-25T09:04:04.615084Z",
     "shell.execute_reply": "2025-08-25T09:04:04.613941Z"
    },
    "papermill": {
     "duration": 0.02548,
     "end_time": "2025-08-25T09:04:04.616618",
     "exception": false,
     "start_time": "2025-08-25T09:04:04.591138",
     "status": "completed"
    },
    "tags": []
   },
   "outputs": [
    {
     "name": "stderr",
     "output_type": "stream",
     "text": [
      "/usr/local/lib/python3.11/dist-packages/pandas/io/formats/format.py:1458: RuntimeWarning: invalid value encountered in greater\n",
      "  has_large_values = (abs_vals > 1e6).any()\n",
      "/usr/local/lib/python3.11/dist-packages/pandas/io/formats/format.py:1459: RuntimeWarning: invalid value encountered in less\n",
      "  has_small_values = ((abs_vals < 10 ** (-self.digits)) & (abs_vals > 0)).any()\n",
      "/usr/local/lib/python3.11/dist-packages/pandas/io/formats/format.py:1459: RuntimeWarning: invalid value encountered in greater\n",
      "  has_small_values = ((abs_vals < 10 ** (-self.digits)) & (abs_vals > 0)).any()\n"
     ]
    },
    {
     "data": {
      "text/html": [
       "<div>\n",
       "<style scoped>\n",
       "    .dataframe tbody tr th:only-of-type {\n",
       "        vertical-align: middle;\n",
       "    }\n",
       "\n",
       "    .dataframe tbody tr th {\n",
       "        vertical-align: top;\n",
       "    }\n",
       "\n",
       "    .dataframe thead th {\n",
       "        text-align: right;\n",
       "    }\n",
       "</style>\n",
       "<table border=\"1\" class=\"dataframe\">\n",
       "  <thead>\n",
       "    <tr style=\"text-align: right;\">\n",
       "      <th></th>\n",
       "      <th>rating</th>\n",
       "      <th>year</th>\n",
       "    </tr>\n",
       "  </thead>\n",
       "  <tbody>\n",
       "    <tr>\n",
       "      <th>mean</th>\n",
       "      <td>4.608571</td>\n",
       "      <td>NaN</td>\n",
       "    </tr>\n",
       "    <tr>\n",
       "      <th>std</th>\n",
       "      <td>0.226941</td>\n",
       "      <td>NaN</td>\n",
       "    </tr>\n",
       "    <tr>\n",
       "      <th>median</th>\n",
       "      <td>NaN</td>\n",
       "      <td>2013.0</td>\n",
       "    </tr>\n",
       "  </tbody>\n",
       "</table>\n",
       "</div>"
      ],
      "text/plain": [
       "          rating    year\n",
       "mean    4.608571     NaN\n",
       "std     0.226941     NaN\n",
       "median       NaN  2013.0"
      ]
     },
     "execution_count": 20,
     "metadata": {},
     "output_type": "execute_result"
    }
   ],
   "source": [
    "#df.agg({'column1':['agg1','agg2',ect], 'column2': ['agg3'])\n",
    "books.agg({'rating': ['mean','std'], 'year': ['median']})"
   ]
  },
  {
   "cell_type": "markdown",
   "id": "fd56d33b",
   "metadata": {
    "papermill": {
     "duration": 0.007651,
     "end_time": "2025-08-25T09:04:04.632504",
     "exception": false,
     "start_time": "2025-08-25T09:04:04.624853",
     "status": "completed"
    },
    "tags": []
   },
   "source": [
    "# Combining .agg AND .groupby using named summary columns"
   ]
  },
  {
   "cell_type": "code",
   "execution_count": 21,
   "id": "6791d399",
   "metadata": {
    "execution": {
     "iopub.execute_input": "2025-08-25T09:04:04.651039Z",
     "iopub.status.busy": "2025-08-25T09:04:04.650124Z",
     "iopub.status.idle": "2025-08-25T09:04:04.690265Z",
     "shell.execute_reply": "2025-08-25T09:04:04.689444Z"
    },
    "papermill": {
     "duration": 0.051367,
     "end_time": "2025-08-25T09:04:04.691920",
     "exception": false,
     "start_time": "2025-08-25T09:04:04.640553",
     "status": "completed"
    },
    "tags": []
   },
   "outputs": [
    {
     "data": {
      "text/html": [
       "<div>\n",
       "<style scoped>\n",
       "    .dataframe tbody tr th:only-of-type {\n",
       "        vertical-align: middle;\n",
       "    }\n",
       "\n",
       "    .dataframe tbody tr th {\n",
       "        vertical-align: top;\n",
       "    }\n",
       "\n",
       "    .dataframe thead th {\n",
       "        text-align: right;\n",
       "    }\n",
       "</style>\n",
       "<table border=\"1\" class=\"dataframe\">\n",
       "  <thead>\n",
       "    <tr style=\"text-align: right;\">\n",
       "      <th></th>\n",
       "      <th>mean_rating</th>\n",
       "      <th>std_rating</th>\n",
       "      <th>median_year</th>\n",
       "    </tr>\n",
       "    <tr>\n",
       "      <th>genre</th>\n",
       "      <th></th>\n",
       "      <th></th>\n",
       "      <th></th>\n",
       "    </tr>\n",
       "  </thead>\n",
       "  <tbody>\n",
       "    <tr>\n",
       "      <th>Childrens</th>\n",
       "      <td>4.780000</td>\n",
       "      <td>0.122370</td>\n",
       "      <td>2015.0</td>\n",
       "    </tr>\n",
       "    <tr>\n",
       "      <th>Fiction</th>\n",
       "      <td>4.570229</td>\n",
       "      <td>0.281123</td>\n",
       "      <td>2013.0</td>\n",
       "    </tr>\n",
       "    <tr>\n",
       "      <th>Non Fiction</th>\n",
       "      <td>4.598324</td>\n",
       "      <td>0.179411</td>\n",
       "      <td>2013.0</td>\n",
       "    </tr>\n",
       "  </tbody>\n",
       "</table>\n",
       "</div>"
      ],
      "text/plain": [
       "             mean_rating  std_rating  median_year\n",
       "genre                                            \n",
       "Childrens       4.780000    0.122370       2015.0\n",
       "Fiction         4.570229    0.281123       2013.0\n",
       "Non Fiction     4.598324    0.179411       2013.0"
      ]
     },
     "execution_count": 21,
     "metadata": {},
     "output_type": "execute_result"
    }
   ],
   "source": [
    "#df.groupby('column to groupby'.agg(named_column=('column','nameagg'), ect))\n",
    "books.groupby('genre').agg(mean_rating=('rating','mean'),std_rating=('rating','std'),median_year=('year','median'))"
   ]
  },
  {
   "cell_type": "markdown",
   "id": "4fa43696",
   "metadata": {
    "papermill": {
     "duration": 0.008207,
     "end_time": "2025-08-25T09:04:04.708391",
     "exception": false,
     "start_time": "2025-08-25T09:04:04.700184",
     "status": "completed"
    },
    "tags": []
   },
   "source": [
    "# Visualizing categorical summaries"
   ]
  },
  {
   "cell_type": "code",
   "execution_count": 22,
   "id": "5c8fb6d0",
   "metadata": {
    "execution": {
     "iopub.execute_input": "2025-08-25T09:04:04.726171Z",
     "iopub.status.busy": "2025-08-25T09:04:04.725836Z",
     "iopub.status.idle": "2025-08-25T09:04:04.895392Z",
     "shell.execute_reply": "2025-08-25T09:04:04.894266Z"
    },
    "papermill": {
     "duration": 0.180561,
     "end_time": "2025-08-25T09:04:04.897149",
     "exception": false,
     "start_time": "2025-08-25T09:04:04.716588",
     "status": "completed"
    },
    "tags": []
   },
   "outputs": [
    {
     "data": {
      "image/png": "[encoded data removed]",
      "text/plain": [
       "<Figure size 640x480 with 1 Axes>"
      ]
     },
     "metadata": {},
     "output_type": "display_data"
    }
   ],
   "source": [
    "sns.barplot(data=books, x='genre', y='rating')\n",
    "plt.show()"
   ]
  },
  {
   "cell_type": "markdown",
   "id": "100fef57",
   "metadata": {
    "papermill": {
     "duration": 0.008991,
     "end_time": "2025-08-25T09:04:04.914771",
     "exception": false,
     "start_time": "2025-08-25T09:04:04.905780",
     "status": "completed"
    },
    "tags": []
   },
   "source": [
    "# Save the output"
   ]
  },
  {
   "cell_type": "code",
   "execution_count": 23,
   "id": "ac37cd19",
   "metadata": {
    "execution": {
     "iopub.execute_input": "2025-08-25T09:04:04.933995Z",
     "iopub.status.busy": "2025-08-25T09:04:04.933670Z",
     "iopub.status.idle": "2025-08-25T09:04:04.946570Z",
     "shell.execute_reply": "2025-08-25T09:04:04.945468Z"
    },
    "papermill": {
     "duration": 0.024629,
     "end_time": "2025-08-25T09:04:04.948160",
     "exception": false,
     "start_time": "2025-08-25T09:04:04.923531",
     "status": "completed"
    },
    "tags": []
   },
   "outputs": [],
   "source": [
    "books.to_csv(\"processed_books.csv\")"
   ]
  }
 ],
 "metadata": {
  "kaggle": {
   "accelerator": "none",
   "dataSources": [
    {
     "datasetId": 8134072,
     "sourceId": 12859928,
     "sourceType": "datasetVersion"
    }
   ],
   "dockerImageVersionId": 31089,
   "isGpuEnabled": false,
   "isInternetEnabled": false,
   "language": "python",
   "sourceType": "notebook"
  },
  "kernelspec": {
   "display_name": "Python 3",
   "language": "python",
   "name": "python3"
  },
  "language_info": {
   "codemirror_mode": {
    "name": "ipython",
    "version": 3
   },
   "file_extension": ".py",
   "mimetype": "text/x-python",
   "name": "python",
   "nbconvert_exporter": "python",
   "pygments_lexer": "ipython3",
   "version": "3.11.13"
  },
  "papermill": {
   "default_parameters": {},
   "duration": 13.465002,
   "end_time": "2025-08-25T09:04:05.677355",
   "environment_variables": {},
   "exception": null,
   "input_path": "__notebook__.ipynb",
   "output_path": "__notebook__.ipynb",
   "parameters": {},
   "start_time": "2025-08-25T09:03:52.212353",
   "version": "2.6.0"
  }
 },
 "nbformat": 4,
 "nbformat_minor": 5
}
