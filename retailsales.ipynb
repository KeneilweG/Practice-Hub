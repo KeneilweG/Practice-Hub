{
 "cells": [
  {
   "cell_type": "code",
   "execution_count": 1,
   "id": "2940b43f",
   "metadata": {
    "_cell_guid": "b1076dfc-b9ad-4769-8c92-a6c4dae69d19",
    "_uuid": "8f2839f25d086af736a60e9eeb907d3b93b6e0e5",
    "execution": {
     "iopub.execute_input": "2025-08-27T16:03:44.585230Z",
     "iopub.status.busy": "2025-08-27T16:03:44.584944Z",
     "iopub.status.idle": "2025-08-27T16:03:46.533453Z",
     "shell.execute_reply": "2025-08-27T16:03:46.532347Z"
    },
    "papermill": {
     "duration": 1.955485,
     "end_time": "2025-08-27T16:03:46.534943",
     "exception": false,
     "start_time": "2025-08-27T16:03:44.579458",
     "status": "completed"
    },
    "tags": []
   },
   "outputs": [
    {
     "name": "stdout",
     "output_type": "stream",
     "text": [
      "/kaggle/input/retailtab/Creating Database.csv\n"
     ]
    }
   ],
   "source": [
    "# This Python 3 environment comes with many helpful analytics libraries installed\n",
    "# It is defined by the kaggle/python Docker image: https://github.com/kaggle/docker-python\n",
    "# For example, here's several helpful packages to load\n",
    "\n",
    "import numpy as np # linear algebra\n",
    "import pandas as pd # data processing, CSV file I/O (e.g. pd.read_csv)\n",
    "\n",
    "# Input data files are available in the read-only \"../input/\" directory\n",
    "# For example, running this (by clicking run or pressing Shift+Enter) will list all files under the input directory\n",
    "\n",
    "import os\n",
    "for dirname, _, filenames in os.walk('/kaggle/input'):\n",
    "    for filename in filenames:\n",
    "        print(os.path.join(dirname, filename))\n",
    "\n",
    "# You can write up to 20GB to the current directory (/kaggle/working/) that gets preserved as output when you create a version using \"Save & Run All\" \n",
    "# You can also write temporary files to /kaggle/temp/, but they won't be saved outside of the current session"
   ]
  },
  {
   "cell_type": "code",
   "execution_count": 2,
   "id": "0f5945ce",
   "metadata": {
    "execution": {
     "iopub.execute_input": "2025-08-27T16:03:46.543632Z",
     "iopub.status.busy": "2025-08-27T16:03:46.543263Z",
     "iopub.status.idle": "2025-08-27T16:03:46.547355Z",
     "shell.execute_reply": "2025-08-27T16:03:46.546672Z"
    },
    "papermill": {
     "duration": 0.009506,
     "end_time": "2025-08-27T16:03:46.548426",
     "exception": false,
     "start_time": "2025-08-27T16:03:46.538920",
     "status": "completed"
    },
    "tags": []
   },
   "outputs": [],
   "source": [
    "import pandas as pd\n",
    "import numpy as np"
   ]
  },
  {
   "cell_type": "markdown",
   "id": "e1201e54",
   "metadata": {
    "papermill": {
     "duration": 0.003648,
     "end_time": "2025-08-27T16:03:46.555719",
     "exception": false,
     "start_time": "2025-08-27T16:03:46.552071",
     "status": "completed"
    },
    "tags": []
   },
   "source": [
    "# Reading the table and declaring a dataframe df"
   ]
  },
  {
   "cell_type": "code",
   "execution_count": 3,
   "id": "d206c7ae",
   "metadata": {
    "execution": {
     "iopub.execute_input": "2025-08-27T16:03:46.563296Z",
     "iopub.status.busy": "2025-08-27T16:03:46.563026Z",
     "iopub.status.idle": "2025-08-27T16:03:46.603547Z",
     "shell.execute_reply": "2025-08-27T16:03:46.602717Z"
    },
    "papermill": {
     "duration": 0.045965,
     "end_time": "2025-08-27T16:03:46.604855",
     "exception": false,
     "start_time": "2025-08-27T16:03:46.558890",
     "status": "completed"
    },
    "tags": []
   },
   "outputs": [
    {
     "data": {
      "text/html": [
       "<div>\n",
       "<style scoped>\n",
       "    .dataframe tbody tr th:only-of-type {\n",
       "        vertical-align: middle;\n",
       "    }\n",
       "\n",
       "    .dataframe tbody tr th {\n",
       "        vertical-align: top;\n",
       "    }\n",
       "\n",
       "    .dataframe thead th {\n",
       "        text-align: right;\n",
       "    }\n",
       "</style>\n",
       "<table border=\"1\" class=\"dataframe\">\n",
       "  <thead>\n",
       "    <tr style=\"text-align: right;\">\n",
       "      <th></th>\n",
       "      <th>DAY_OF_WEEK</th>\n",
       "      <th>MONTH_NAME</th>\n",
       "      <th>MONTH_PERIOD</th>\n",
       "      <th>TOTAL_REVENUE</th>\n",
       "      <th>ORDER_COUNT</th>\n",
       "      <th>QUANTITY</th>\n",
       "      <th>CUSTOMER_NAME</th>\n",
       "      <th>PRODUCT_CATEGORY</th>\n",
       "    </tr>\n",
       "  </thead>\n",
       "  <tbody>\n",
       "    <tr>\n",
       "      <th>0</th>\n",
       "      <td>Fri</td>\n",
       "      <td>8</td>\n",
       "      <td>Month Start</td>\n",
       "      <td>450</td>\n",
       "      <td>1</td>\n",
       "      <td>3</td>\n",
       "      <td>Lerato</td>\n",
       "      <td>Beverages</td>\n",
       "    </tr>\n",
       "    <tr>\n",
       "      <th>1</th>\n",
       "      <td>Sat</td>\n",
       "      <td>8</td>\n",
       "      <td>Month Start</td>\n",
       "      <td>151</td>\n",
       "      <td>1</td>\n",
       "      <td>2</td>\n",
       "      <td>Thabo</td>\n",
       "      <td>Snacks</td>\n",
       "    </tr>\n",
       "    <tr>\n",
       "      <th>2</th>\n",
       "      <td>Mon</td>\n",
       "      <td>8</td>\n",
       "      <td>Other</td>\n",
       "      <td>50</td>\n",
       "      <td>1</td>\n",
       "      <td>1</td>\n",
       "      <td>Kabelo</td>\n",
       "      <td>Beverages</td>\n",
       "    </tr>\n",
       "    <tr>\n",
       "      <th>3</th>\n",
       "      <td>Sun</td>\n",
       "      <td>8</td>\n",
       "      <td>Month Start</td>\n",
       "      <td>1000</td>\n",
       "      <td>1</td>\n",
       "      <td>5</td>\n",
       "      <td>Naledi</td>\n",
       "      <td>Bakery</td>\n",
       "    </tr>\n",
       "  </tbody>\n",
       "</table>\n",
       "</div>"
      ],
      "text/plain": [
       "  DAY_OF_WEEK  MONTH_NAME MONTH_PERIOD  TOTAL_REVENUE  ORDER_COUNT  QUANTITY  \\\n",
       "0         Fri           8  Month Start            450            1         3   \n",
       "1         Sat           8  Month Start            151            1         2   \n",
       "2         Mon           8        Other             50            1         1   \n",
       "3         Sun           8  Month Start           1000            1         5   \n",
       "\n",
       "  CUSTOMER_NAME PRODUCT_CATEGORY  \n",
       "0        Lerato        Beverages  \n",
       "1         Thabo           Snacks  \n",
       "2        Kabelo        Beverages  \n",
       "3        Naledi           Bakery  "
      ]
     },
     "execution_count": 3,
     "metadata": {},
     "output_type": "execute_result"
    }
   ],
   "source": [
    "df = pd.read_csv('/kaggle/input/retailtab/Creating Database.csv')\n",
    "df"
   ]
  },
  {
   "cell_type": "markdown",
   "id": "55925e6f",
   "metadata": {
    "papermill": {
     "duration": 0.003221,
     "end_time": "2025-08-27T16:03:46.611910",
     "exception": false,
     "start_time": "2025-08-27T16:03:46.608689",
     "status": "completed"
    },
    "tags": []
   },
   "source": [
    "# Exploring the information about my table"
   ]
  },
  {
   "cell_type": "code",
   "execution_count": 4,
   "id": "3857ed58",
   "metadata": {
    "execution": {
     "iopub.execute_input": "2025-08-27T16:03:46.619814Z",
     "iopub.status.busy": "2025-08-27T16:03:46.619504Z",
     "iopub.status.idle": "2025-08-27T16:03:46.648837Z",
     "shell.execute_reply": "2025-08-27T16:03:46.647983Z"
    },
    "papermill": {
     "duration": 0.035119,
     "end_time": "2025-08-27T16:03:46.650291",
     "exception": false,
     "start_time": "2025-08-27T16:03:46.615172",
     "status": "completed"
    },
    "tags": []
   },
   "outputs": [
    {
     "name": "stdout",
     "output_type": "stream",
     "text": [
      "<class 'pandas.core.frame.DataFrame'>\n",
      "RangeIndex: 4 entries, 0 to 3\n",
      "Data columns (total 8 columns):\n",
      " #   Column            Non-Null Count  Dtype \n",
      "---  ------            --------------  ----- \n",
      " 0   DAY_OF_WEEK       4 non-null      object\n",
      " 1   MONTH_NAME        4 non-null      int64 \n",
      " 2   MONTH_PERIOD      4 non-null      object\n",
      " 3   TOTAL_REVENUE     4 non-null      int64 \n",
      " 4   ORDER_COUNT       4 non-null      int64 \n",
      " 5   QUANTITY          4 non-null      int64 \n",
      " 6   CUSTOMER_NAME     4 non-null      object\n",
      " 7   PRODUCT_CATEGORY  4 non-null      object\n",
      "dtypes: int64(4), object(4)\n",
      "memory usage: 388.0+ bytes\n"
     ]
    }
   ],
   "source": [
    "df.info()"
   ]
  },
  {
   "cell_type": "markdown",
   "id": "f6f9b221",
   "metadata": {
    "papermill": {
     "duration": 0.004158,
     "end_time": "2025-08-27T16:03:46.658299",
     "exception": false,
     "start_time": "2025-08-27T16:03:46.654141",
     "status": "completed"
    },
    "tags": []
   },
   "source": [
    "# Counting categories within Month Period"
   ]
  },
  {
   "cell_type": "code",
   "execution_count": 5,
   "id": "db404004",
   "metadata": {
    "execution": {
     "iopub.execute_input": "2025-08-27T16:03:46.667348Z",
     "iopub.status.busy": "2025-08-27T16:03:46.666215Z",
     "iopub.status.idle": "2025-08-27T16:03:46.673177Z",
     "shell.execute_reply": "2025-08-27T16:03:46.672233Z"
    },
    "papermill": {
     "duration": 0.012782,
     "end_time": "2025-08-27T16:03:46.674588",
     "exception": false,
     "start_time": "2025-08-27T16:03:46.661806",
     "status": "completed"
    },
    "tags": []
   },
   "outputs": [
    {
     "data": {
      "text/plain": [
       "MONTH_PERIOD\n",
       "Month Start    3\n",
       "Other          1\n",
       "Name: count, dtype: int64"
      ]
     },
     "execution_count": 5,
     "metadata": {},
     "output_type": "execute_result"
    }
   ],
   "source": [
    "df.value_counts('MONTH_PERIOD')"
   ]
  },
  {
   "cell_type": "markdown",
   "id": "20c02d52",
   "metadata": {
    "papermill": {
     "duration": 0.00326,
     "end_time": "2025-08-27T16:03:46.681758",
     "exception": false,
     "start_time": "2025-08-27T16:03:46.678498",
     "status": "completed"
    },
    "tags": []
   },
   "source": [
    "# Counting categories within Product Category "
   ]
  },
  {
   "cell_type": "code",
   "execution_count": 6,
   "id": "ae161fe1",
   "metadata": {
    "execution": {
     "iopub.execute_input": "2025-08-27T16:03:46.689592Z",
     "iopub.status.busy": "2025-08-27T16:03:46.689338Z",
     "iopub.status.idle": "2025-08-27T16:03:46.695712Z",
     "shell.execute_reply": "2025-08-27T16:03:46.694848Z"
    },
    "papermill": {
     "duration": 0.011871,
     "end_time": "2025-08-27T16:03:46.697024",
     "exception": false,
     "start_time": "2025-08-27T16:03:46.685153",
     "status": "completed"
    },
    "tags": []
   },
   "outputs": [
    {
     "data": {
      "text/plain": [
       "PRODUCT_CATEGORY\n",
       "Beverages    2\n",
       "Bakery       1\n",
       "Snacks       1\n",
       "Name: count, dtype: int64"
      ]
     },
     "execution_count": 6,
     "metadata": {},
     "output_type": "execute_result"
    }
   ],
   "source": [
    "df.value_counts('PRODUCT_CATEGORY')"
   ]
  },
  {
   "cell_type": "markdown",
   "id": "e02c03e5",
   "metadata": {
    "papermill": {
     "duration": 0.003382,
     "end_time": "2025-08-27T16:03:46.704340",
     "exception": false,
     "start_time": "2025-08-27T16:03:46.700958",
     "status": "completed"
    },
    "tags": []
   },
   "source": [
    "# Displaying the numerical fields"
   ]
  },
  {
   "cell_type": "code",
   "execution_count": 7,
   "id": "2fd09343",
   "metadata": {
    "execution": {
     "iopub.execute_input": "2025-08-27T16:03:46.712215Z",
     "iopub.status.busy": "2025-08-27T16:03:46.711909Z",
     "iopub.status.idle": "2025-08-27T16:03:46.738018Z",
     "shell.execute_reply": "2025-08-27T16:03:46.737416Z"
    },
    "papermill": {
     "duration": 0.031718,
     "end_time": "2025-08-27T16:03:46.739497",
     "exception": false,
     "start_time": "2025-08-27T16:03:46.707779",
     "status": "completed"
    },
    "tags": []
   },
   "outputs": [
    {
     "data": {
      "text/html": [
       "<div>\n",
       "<style scoped>\n",
       "    .dataframe tbody tr th:only-of-type {\n",
       "        vertical-align: middle;\n",
       "    }\n",
       "\n",
       "    .dataframe tbody tr th {\n",
       "        vertical-align: top;\n",
       "    }\n",
       "\n",
       "    .dataframe thead th {\n",
       "        text-align: right;\n",
       "    }\n",
       "</style>\n",
       "<table border=\"1\" class=\"dataframe\">\n",
       "  <thead>\n",
       "    <tr style=\"text-align: right;\">\n",
       "      <th></th>\n",
       "      <th>MONTH_NAME</th>\n",
       "      <th>TOTAL_REVENUE</th>\n",
       "      <th>ORDER_COUNT</th>\n",
       "      <th>QUANTITY</th>\n",
       "    </tr>\n",
       "  </thead>\n",
       "  <tbody>\n",
       "    <tr>\n",
       "      <th>count</th>\n",
       "      <td>4.0</td>\n",
       "      <td>4.000000</td>\n",
       "      <td>4.0</td>\n",
       "      <td>4.000000</td>\n",
       "    </tr>\n",
       "    <tr>\n",
       "      <th>mean</th>\n",
       "      <td>8.0</td>\n",
       "      <td>412.750000</td>\n",
       "      <td>1.0</td>\n",
       "      <td>2.750000</td>\n",
       "    </tr>\n",
       "    <tr>\n",
       "      <th>std</th>\n",
       "      <td>0.0</td>\n",
       "      <td>426.751587</td>\n",
       "      <td>0.0</td>\n",
       "      <td>1.707825</td>\n",
       "    </tr>\n",
       "    <tr>\n",
       "      <th>min</th>\n",
       "      <td>8.0</td>\n",
       "      <td>50.000000</td>\n",
       "      <td>1.0</td>\n",
       "      <td>1.000000</td>\n",
       "    </tr>\n",
       "    <tr>\n",
       "      <th>25%</th>\n",
       "      <td>8.0</td>\n",
       "      <td>125.750000</td>\n",
       "      <td>1.0</td>\n",
       "      <td>1.750000</td>\n",
       "    </tr>\n",
       "    <tr>\n",
       "      <th>50%</th>\n",
       "      <td>8.0</td>\n",
       "      <td>300.500000</td>\n",
       "      <td>1.0</td>\n",
       "      <td>2.500000</td>\n",
       "    </tr>\n",
       "    <tr>\n",
       "      <th>75%</th>\n",
       "      <td>8.0</td>\n",
       "      <td>587.500000</td>\n",
       "      <td>1.0</td>\n",
       "      <td>3.500000</td>\n",
       "    </tr>\n",
       "    <tr>\n",
       "      <th>max</th>\n",
       "      <td>8.0</td>\n",
       "      <td>1000.000000</td>\n",
       "      <td>1.0</td>\n",
       "      <td>5.000000</td>\n",
       "    </tr>\n",
       "  </tbody>\n",
       "</table>\n",
       "</div>"
      ],
      "text/plain": [
       "       MONTH_NAME  TOTAL_REVENUE  ORDER_COUNT  QUANTITY\n",
       "count         4.0       4.000000          4.0  4.000000\n",
       "mean          8.0     412.750000          1.0  2.750000\n",
       "std           0.0     426.751587          0.0  1.707825\n",
       "min           8.0      50.000000          1.0  1.000000\n",
       "25%           8.0     125.750000          1.0  1.750000\n",
       "50%           8.0     300.500000          1.0  2.500000\n",
       "75%           8.0     587.500000          1.0  3.500000\n",
       "max           8.0    1000.000000          1.0  5.000000"
      ]
     },
     "execution_count": 7,
     "metadata": {},
     "output_type": "execute_result"
    }
   ],
   "source": [
    "df.describe()"
   ]
  },
  {
   "cell_type": "markdown",
   "id": "28099e7d",
   "metadata": {
    "papermill": {
     "duration": 0.003558,
     "end_time": "2025-08-27T16:03:46.747410",
     "exception": false,
     "start_time": "2025-08-27T16:03:46.743852",
     "status": "completed"
    },
    "tags": []
   },
   "source": [
    "# Display first 2 rows of the table"
   ]
  },
  {
   "cell_type": "code",
   "execution_count": 8,
   "id": "68e02604",
   "metadata": {
    "execution": {
     "iopub.execute_input": "2025-08-27T16:03:46.755923Z",
     "iopub.status.busy": "2025-08-27T16:03:46.755641Z",
     "iopub.status.idle": "2025-08-27T16:03:46.764682Z",
     "shell.execute_reply": "2025-08-27T16:03:46.763688Z"
    },
    "papermill": {
     "duration": 0.015269,
     "end_time": "2025-08-27T16:03:46.766220",
     "exception": false,
     "start_time": "2025-08-27T16:03:46.750951",
     "status": "completed"
    },
    "tags": []
   },
   "outputs": [
    {
     "data": {
      "text/html": [
       "<div>\n",
       "<style scoped>\n",
       "    .dataframe tbody tr th:only-of-type {\n",
       "        vertical-align: middle;\n",
       "    }\n",
       "\n",
       "    .dataframe tbody tr th {\n",
       "        vertical-align: top;\n",
       "    }\n",
       "\n",
       "    .dataframe thead th {\n",
       "        text-align: right;\n",
       "    }\n",
       "</style>\n",
       "<table border=\"1\" class=\"dataframe\">\n",
       "  <thead>\n",
       "    <tr style=\"text-align: right;\">\n",
       "      <th></th>\n",
       "      <th>DAY_OF_WEEK</th>\n",
       "      <th>MONTH_NAME</th>\n",
       "      <th>MONTH_PERIOD</th>\n",
       "      <th>TOTAL_REVENUE</th>\n",
       "      <th>ORDER_COUNT</th>\n",
       "      <th>QUANTITY</th>\n",
       "      <th>CUSTOMER_NAME</th>\n",
       "      <th>PRODUCT_CATEGORY</th>\n",
       "    </tr>\n",
       "  </thead>\n",
       "  <tbody>\n",
       "    <tr>\n",
       "      <th>0</th>\n",
       "      <td>Fri</td>\n",
       "      <td>8</td>\n",
       "      <td>Month Start</td>\n",
       "      <td>450</td>\n",
       "      <td>1</td>\n",
       "      <td>3</td>\n",
       "      <td>Lerato</td>\n",
       "      <td>Beverages</td>\n",
       "    </tr>\n",
       "    <tr>\n",
       "      <th>1</th>\n",
       "      <td>Sat</td>\n",
       "      <td>8</td>\n",
       "      <td>Month Start</td>\n",
       "      <td>151</td>\n",
       "      <td>1</td>\n",
       "      <td>2</td>\n",
       "      <td>Thabo</td>\n",
       "      <td>Snacks</td>\n",
       "    </tr>\n",
       "  </tbody>\n",
       "</table>\n",
       "</div>"
      ],
      "text/plain": [
       "  DAY_OF_WEEK  MONTH_NAME MONTH_PERIOD  TOTAL_REVENUE  ORDER_COUNT  QUANTITY  \\\n",
       "0         Fri           8  Month Start            450            1         3   \n",
       "1         Sat           8  Month Start            151            1         2   \n",
       "\n",
       "  CUSTOMER_NAME PRODUCT_CATEGORY  \n",
       "0        Lerato        Beverages  \n",
       "1         Thabo           Snacks  "
      ]
     },
     "execution_count": 8,
     "metadata": {},
     "output_type": "execute_result"
    }
   ],
   "source": [
    "df.head(2)"
   ]
  },
  {
   "cell_type": "markdown",
   "id": "b5533408",
   "metadata": {
    "papermill": {
     "duration": 0.003641,
     "end_time": "2025-08-27T16:03:46.774160",
     "exception": false,
     "start_time": "2025-08-27T16:03:46.770519",
     "status": "completed"
    },
    "tags": []
   },
   "source": [
    "# Validating data types"
   ]
  },
  {
   "cell_type": "code",
   "execution_count": 9,
   "id": "8498ece0",
   "metadata": {
    "execution": {
     "iopub.execute_input": "2025-08-27T16:03:46.782709Z",
     "iopub.status.busy": "2025-08-27T16:03:46.782466Z",
     "iopub.status.idle": "2025-08-27T16:03:46.788430Z",
     "shell.execute_reply": "2025-08-27T16:03:46.787738Z"
    },
    "papermill": {
     "duration": 0.012006,
     "end_time": "2025-08-27T16:03:46.789921",
     "exception": false,
     "start_time": "2025-08-27T16:03:46.777915",
     "status": "completed"
    },
    "tags": []
   },
   "outputs": [
    {
     "data": {
      "text/plain": [
       "DAY_OF_WEEK         object\n",
       "MONTH_NAME           int64\n",
       "MONTH_PERIOD        object\n",
       "TOTAL_REVENUE        int64\n",
       "ORDER_COUNT          int64\n",
       "QUANTITY             int64\n",
       "CUSTOMER_NAME       object\n",
       "PRODUCT_CATEGORY    object\n",
       "dtype: object"
      ]
     },
     "execution_count": 9,
     "metadata": {},
     "output_type": "execute_result"
    }
   ],
   "source": [
    "df.dtypes"
   ]
  },
  {
   "cell_type": "code",
   "execution_count": 10,
   "id": "3fbfd875",
   "metadata": {
    "execution": {
     "iopub.execute_input": "2025-08-27T16:03:46.799517Z",
     "iopub.status.busy": "2025-08-27T16:03:46.799267Z",
     "iopub.status.idle": "2025-08-27T16:03:46.804516Z",
     "shell.execute_reply": "2025-08-27T16:03:46.803319Z"
    },
    "papermill": {
     "duration": 0.011661,
     "end_time": "2025-08-27T16:03:46.806020",
     "exception": false,
     "start_time": "2025-08-27T16:03:46.794359",
     "status": "completed"
    },
    "tags": []
   },
   "outputs": [],
   "source": [
    "df['TOTAL_REVENUE']=df['TOTAL_REVENUE'].astype(float)"
   ]
  },
  {
   "cell_type": "code",
   "execution_count": 11,
   "id": "15be18eb",
   "metadata": {
    "execution": {
     "iopub.execute_input": "2025-08-27T16:03:46.815771Z",
     "iopub.status.busy": "2025-08-27T16:03:46.815470Z",
     "iopub.status.idle": "2025-08-27T16:03:46.821227Z",
     "shell.execute_reply": "2025-08-27T16:03:46.820533Z"
    },
    "papermill": {
     "duration": 0.012009,
     "end_time": "2025-08-27T16:03:46.822528",
     "exception": false,
     "start_time": "2025-08-27T16:03:46.810519",
     "status": "completed"
    },
    "tags": []
   },
   "outputs": [
    {
     "data": {
      "text/plain": [
       "DAY_OF_WEEK          object\n",
       "MONTH_NAME            int64\n",
       "MONTH_PERIOD         object\n",
       "TOTAL_REVENUE       float64\n",
       "ORDER_COUNT           int64\n",
       "QUANTITY              int64\n",
       "CUSTOMER_NAME        object\n",
       "PRODUCT_CATEGORY     object\n",
       "dtype: object"
      ]
     },
     "execution_count": 11,
     "metadata": {},
     "output_type": "execute_result"
    }
   ],
   "source": [
    "df.dtypes"
   ]
  },
  {
   "cell_type": "code",
   "execution_count": 12,
   "id": "0108a746",
   "metadata": {
    "execution": {
     "iopub.execute_input": "2025-08-27T16:03:46.832267Z",
     "iopub.status.busy": "2025-08-27T16:03:46.831949Z",
     "iopub.status.idle": "2025-08-27T16:03:46.841863Z",
     "shell.execute_reply": "2025-08-27T16:03:46.840709Z"
    },
    "papermill": {
     "duration": 0.016441,
     "end_time": "2025-08-27T16:03:46.843475",
     "exception": false,
     "start_time": "2025-08-27T16:03:46.827034",
     "status": "completed"
    },
    "tags": []
   },
   "outputs": [
    {
     "data": {
      "text/html": [
       "<div>\n",
       "<style scoped>\n",
       "    .dataframe tbody tr th:only-of-type {\n",
       "        vertical-align: middle;\n",
       "    }\n",
       "\n",
       "    .dataframe tbody tr th {\n",
       "        vertical-align: top;\n",
       "    }\n",
       "\n",
       "    .dataframe thead th {\n",
       "        text-align: right;\n",
       "    }\n",
       "</style>\n",
       "<table border=\"1\" class=\"dataframe\">\n",
       "  <thead>\n",
       "    <tr style=\"text-align: right;\">\n",
       "      <th></th>\n",
       "      <th>DAY_OF_WEEK</th>\n",
       "      <th>MONTH_NAME</th>\n",
       "      <th>MONTH_PERIOD</th>\n",
       "      <th>TOTAL_REVENUE</th>\n",
       "      <th>ORDER_COUNT</th>\n",
       "      <th>QUANTITY</th>\n",
       "      <th>CUSTOMER_NAME</th>\n",
       "      <th>PRODUCT_CATEGORY</th>\n",
       "    </tr>\n",
       "  </thead>\n",
       "  <tbody>\n",
       "    <tr>\n",
       "      <th>0</th>\n",
       "      <td>Fri</td>\n",
       "      <td>8</td>\n",
       "      <td>Month Start</td>\n",
       "      <td>450.0</td>\n",
       "      <td>1</td>\n",
       "      <td>3</td>\n",
       "      <td>Lerato</td>\n",
       "      <td>Beverages</td>\n",
       "    </tr>\n",
       "    <tr>\n",
       "      <th>1</th>\n",
       "      <td>Sat</td>\n",
       "      <td>8</td>\n",
       "      <td>Month Start</td>\n",
       "      <td>151.0</td>\n",
       "      <td>1</td>\n",
       "      <td>2</td>\n",
       "      <td>Thabo</td>\n",
       "      <td>Snacks</td>\n",
       "    </tr>\n",
       "    <tr>\n",
       "      <th>2</th>\n",
       "      <td>Mon</td>\n",
       "      <td>8</td>\n",
       "      <td>Other</td>\n",
       "      <td>50.0</td>\n",
       "      <td>1</td>\n",
       "      <td>1</td>\n",
       "      <td>Kabelo</td>\n",
       "      <td>Beverages</td>\n",
       "    </tr>\n",
       "    <tr>\n",
       "      <th>3</th>\n",
       "      <td>Sun</td>\n",
       "      <td>8</td>\n",
       "      <td>Month Start</td>\n",
       "      <td>1000.0</td>\n",
       "      <td>1</td>\n",
       "      <td>5</td>\n",
       "      <td>Naledi</td>\n",
       "      <td>Bakery</td>\n",
       "    </tr>\n",
       "  </tbody>\n",
       "</table>\n",
       "</div>"
      ],
      "text/plain": [
       "  DAY_OF_WEEK  MONTH_NAME MONTH_PERIOD  TOTAL_REVENUE  ORDER_COUNT  QUANTITY  \\\n",
       "0         Fri           8  Month Start          450.0            1         3   \n",
       "1         Sat           8  Month Start          151.0            1         2   \n",
       "2         Mon           8        Other           50.0            1         1   \n",
       "3         Sun           8  Month Start         1000.0            1         5   \n",
       "\n",
       "  CUSTOMER_NAME PRODUCT_CATEGORY  \n",
       "0        Lerato        Beverages  \n",
       "1         Thabo           Snacks  \n",
       "2        Kabelo        Beverages  \n",
       "3        Naledi           Bakery  "
      ]
     },
     "execution_count": 12,
     "metadata": {},
     "output_type": "execute_result"
    }
   ],
   "source": [
    "df.head()"
   ]
  },
  {
   "cell_type": "code",
   "execution_count": 13,
   "id": "b415b180",
   "metadata": {
    "execution": {
     "iopub.execute_input": "2025-08-27T16:03:46.853461Z",
     "iopub.status.busy": "2025-08-27T16:03:46.853190Z",
     "iopub.status.idle": "2025-08-27T16:03:49.486769Z",
     "shell.execute_reply": "2025-08-27T16:03:49.486077Z"
    },
    "papermill": {
     "duration": 2.639717,
     "end_time": "2025-08-27T16:03:49.487899",
     "exception": false,
     "start_time": "2025-08-27T16:03:46.848182",
     "status": "completed"
    },
    "tags": []
   },
   "outputs": [
    {
     "name": "stderr",
     "output_type": "stream",
     "text": [
      "/usr/local/lib/python3.11/dist-packages/seaborn/_oldcore.py:1119: FutureWarning: use_inf_as_na option is deprecated and will be removed in a future version. Convert inf values to NaN before operating instead.\n",
      "  with pd.option_context('mode.use_inf_as_na', True):\n"
     ]
    },
    {
     "data": {
      "image/png": "[encoded data removed]",
      "text/plain": [
       "<Figure size 640x480 with 1 Axes>"
      ]
     },
     "metadata": {},
     "output_type": "display_data"
    }
   ],
   "source": [
    "import seaborn as sns\n",
    "import matplotlib.pyplot as plt\n",
    "sns.histplot(data=df, x= 'TOTAL_REVENUE')\n",
    "plt.title('Total revenue generated in first days of the month')\n",
    "plt.show()"
   ]
  },
  {
   "cell_type": "code",
   "execution_count": 14,
   "id": "070a430b",
   "metadata": {
    "execution": {
     "iopub.execute_input": "2025-08-27T16:03:49.498841Z",
     "iopub.status.busy": "2025-08-27T16:03:49.498373Z",
     "iopub.status.idle": "2025-08-27T16:03:49.617305Z",
     "shell.execute_reply": "2025-08-27T16:03:49.616238Z"
    },
    "papermill": {
     "duration": 0.125876,
     "end_time": "2025-08-27T16:03:49.618836",
     "exception": false,
     "start_time": "2025-08-27T16:03:49.492960",
     "status": "completed"
    },
    "tags": []
   },
   "outputs": [
    {
     "name": "stderr",
     "output_type": "stream",
     "text": [
      "/usr/local/lib/python3.11/dist-packages/seaborn/_oldcore.py:1119: FutureWarning: use_inf_as_na option is deprecated and will be removed in a future version. Convert inf values to NaN before operating instead.\n",
      "  with pd.option_context('mode.use_inf_as_na', True):\n",
      "/usr/local/lib/python3.11/dist-packages/seaborn/_oldcore.py:1119: FutureWarning: use_inf_as_na option is deprecated and will be removed in a future version. Convert inf values to NaN before operating instead.\n",
      "  with pd.option_context('mode.use_inf_as_na', True):\n"
     ]
    },
    {
     "data": {
      "image/png": "[encoded data removed]",
      "text/plain": [
       "<Figure size 640x480 with 1 Axes>"
      ]
     },
     "metadata": {},
     "output_type": "display_data"
    }
   ],
   "source": [
    "import seaborn as sns\n",
    "import matplotlib.pyplot as plt\n",
    "sns.lineplot(data=df, x='CUSTOMER_NAME',y= 'TOTAL_REVENUE' , color='red')\n",
    "plt.title('Total Revenue Per Customer')\n",
    "plt.show()"
   ]
  },
  {
   "cell_type": "markdown",
   "id": "316cd8bf",
   "metadata": {
    "papermill": {
     "duration": 0.005426,
     "end_time": "2025-08-27T16:03:49.630134",
     "exception": false,
     "start_time": "2025-08-27T16:03:49.624708",
     "status": "completed"
    },
    "tags": []
   },
   "source": [
    "# Minimum and Maximum Total Revenue"
   ]
  },
  {
   "cell_type": "code",
   "execution_count": 15,
   "id": "cd58944f",
   "metadata": {
    "execution": {
     "iopub.execute_input": "2025-08-27T16:03:49.642047Z",
     "iopub.status.busy": "2025-08-27T16:03:49.640858Z",
     "iopub.status.idle": "2025-08-27T16:03:49.646874Z",
     "shell.execute_reply": "2025-08-27T16:03:49.646237Z"
    },
    "papermill": {
     "duration": 0.012672,
     "end_time": "2025-08-27T16:03:49.647818",
     "exception": false,
     "start_time": "2025-08-27T16:03:49.635146",
     "status": "completed"
    },
    "tags": []
   },
   "outputs": [
    {
     "data": {
      "text/plain": [
       "(50.0, 1000.0)"
      ]
     },
     "execution_count": 15,
     "metadata": {},
     "output_type": "execute_result"
    }
   ],
   "source": [
    "df['TOTAL_REVENUE'].min(),df['TOTAL_REVENUE'].max()"
   ]
  },
  {
   "cell_type": "markdown",
   "id": "267aedf6",
   "metadata": {
    "papermill": {
     "duration": 0.004625,
     "end_time": "2025-08-27T16:03:49.657513",
     "exception": false,
     "start_time": "2025-08-27T16:03:49.652888",
     "status": "completed"
    },
    "tags": []
   },
   "source": [
    "# Aggregation "
   ]
  },
  {
   "cell_type": "code",
   "execution_count": 16,
   "id": "7a8ea9b6",
   "metadata": {
    "execution": {
     "iopub.execute_input": "2025-08-27T16:03:49.668364Z",
     "iopub.status.busy": "2025-08-27T16:03:49.668085Z",
     "iopub.status.idle": "2025-08-27T16:03:49.682245Z",
     "shell.execute_reply": "2025-08-27T16:03:49.681493Z"
    },
    "papermill": {
     "duration": 0.021448,
     "end_time": "2025-08-27T16:03:49.683877",
     "exception": false,
     "start_time": "2025-08-27T16:03:49.662429",
     "status": "completed"
    },
    "tags": []
   },
   "outputs": [
    {
     "data": {
      "text/html": [
       "<div>\n",
       "<style scoped>\n",
       "    .dataframe tbody tr th:only-of-type {\n",
       "        vertical-align: middle;\n",
       "    }\n",
       "\n",
       "    .dataframe tbody tr th {\n",
       "        vertical-align: top;\n",
       "    }\n",
       "\n",
       "    .dataframe thead th {\n",
       "        text-align: right;\n",
       "    }\n",
       "</style>\n",
       "<table border=\"1\" class=\"dataframe\">\n",
       "  <thead>\n",
       "    <tr style=\"text-align: right;\">\n",
       "      <th></th>\n",
       "      <th>TOTAL_REVENUE</th>\n",
       "      <th>QUANTITY</th>\n",
       "    </tr>\n",
       "  </thead>\n",
       "  <tbody>\n",
       "    <tr>\n",
       "      <th>mean</th>\n",
       "      <td>412.750000</td>\n",
       "      <td>2.750000</td>\n",
       "    </tr>\n",
       "    <tr>\n",
       "      <th>std</th>\n",
       "      <td>426.751587</td>\n",
       "      <td>1.707825</td>\n",
       "    </tr>\n",
       "    <tr>\n",
       "      <th>median</th>\n",
       "      <td>300.500000</td>\n",
       "      <td>2.500000</td>\n",
       "    </tr>\n",
       "  </tbody>\n",
       "</table>\n",
       "</div>"
      ],
      "text/plain": [
       "        TOTAL_REVENUE  QUANTITY\n",
       "mean       412.750000  2.750000\n",
       "std        426.751587  1.707825\n",
       "median     300.500000  2.500000"
      ]
     },
     "execution_count": 16,
     "metadata": {},
     "output_type": "execute_result"
    }
   ],
   "source": [
    "df[['TOTAL_REVENUE', 'QUANTITY']].agg(['mean','std','median'])"
   ]
  },
  {
   "cell_type": "markdown",
   "id": "7cae3ea6",
   "metadata": {
    "papermill": {
     "duration": 0.004854,
     "end_time": "2025-08-27T16:03:49.694200",
     "exception": false,
     "start_time": "2025-08-27T16:03:49.689346",
     "status": "completed"
    },
    "tags": []
   },
   "source": [
    "# Dictionary using Aggregation "
   ]
  },
  {
   "cell_type": "code",
   "execution_count": 17,
   "id": "8bf30b58",
   "metadata": {
    "execution": {
     "iopub.execute_input": "2025-08-27T16:03:49.705402Z",
     "iopub.status.busy": "2025-08-27T16:03:49.705082Z",
     "iopub.status.idle": "2025-08-27T16:03:49.717219Z",
     "shell.execute_reply": "2025-08-27T16:03:49.716083Z"
    },
    "papermill": {
     "duration": 0.019402,
     "end_time": "2025-08-27T16:03:49.718626",
     "exception": false,
     "start_time": "2025-08-27T16:03:49.699224",
     "status": "completed"
    },
    "tags": []
   },
   "outputs": [
    {
     "name": "stderr",
     "output_type": "stream",
     "text": [
      "/usr/local/lib/python3.11/dist-packages/pandas/io/formats/format.py:1458: RuntimeWarning: invalid value encountered in greater\n",
      "  has_large_values = (abs_vals > 1e6).any()\n",
      "/usr/local/lib/python3.11/dist-packages/pandas/io/formats/format.py:1459: RuntimeWarning: invalid value encountered in less\n",
      "  has_small_values = ((abs_vals < 10 ** (-self.digits)) & (abs_vals > 0)).any()\n",
      "/usr/local/lib/python3.11/dist-packages/pandas/io/formats/format.py:1459: RuntimeWarning: invalid value encountered in greater\n",
      "  has_small_values = ((abs_vals < 10 ** (-self.digits)) & (abs_vals > 0)).any()\n"
     ]
    },
    {
     "data": {
      "text/html": [
       "<div>\n",
       "<style scoped>\n",
       "    .dataframe tbody tr th:only-of-type {\n",
       "        vertical-align: middle;\n",
       "    }\n",
       "\n",
       "    .dataframe tbody tr th {\n",
       "        vertical-align: top;\n",
       "    }\n",
       "\n",
       "    .dataframe thead th {\n",
       "        text-align: right;\n",
       "    }\n",
       "</style>\n",
       "<table border=\"1\" class=\"dataframe\">\n",
       "  <thead>\n",
       "    <tr style=\"text-align: right;\">\n",
       "      <th></th>\n",
       "      <th>TOTAL_REVENUE</th>\n",
       "      <th>QUANTITY</th>\n",
       "    </tr>\n",
       "  </thead>\n",
       "  <tbody>\n",
       "    <tr>\n",
       "      <th>mean</th>\n",
       "      <td>412.75</td>\n",
       "      <td>NaN</td>\n",
       "    </tr>\n",
       "    <tr>\n",
       "      <th>sum</th>\n",
       "      <td>NaN</td>\n",
       "      <td>11.0</td>\n",
       "    </tr>\n",
       "  </tbody>\n",
       "</table>\n",
       "</div>"
      ],
      "text/plain": [
       "      TOTAL_REVENUE  QUANTITY\n",
       "mean         412.75       NaN\n",
       "sum             NaN      11.0"
      ]
     },
     "execution_count": 17,
     "metadata": {},
     "output_type": "execute_result"
    }
   ],
   "source": [
    "df.agg({'TOTAL_REVENUE': ['mean'], 'QUANTITY': ['sum']})"
   ]
  },
  {
   "cell_type": "markdown",
   "id": "ad5f29ea",
   "metadata": {
    "papermill": {
     "duration": 0.004881,
     "end_time": "2025-08-27T16:03:49.729177",
     "exception": false,
     "start_time": "2025-08-27T16:03:49.724296",
     "status": "completed"
    },
    "tags": []
   },
   "source": [
    "# Using Named Aggregation"
   ]
  },
  {
   "cell_type": "code",
   "execution_count": 18,
   "id": "494bad63",
   "metadata": {
    "execution": {
     "iopub.execute_input": "2025-08-27T16:03:49.740422Z",
     "iopub.status.busy": "2025-08-27T16:03:49.740092Z",
     "iopub.status.idle": "2025-08-27T16:03:49.768260Z",
     "shell.execute_reply": "2025-08-27T16:03:49.767307Z"
    },
    "papermill": {
     "duration": 0.035097,
     "end_time": "2025-08-27T16:03:49.769312",
     "exception": false,
     "start_time": "2025-08-27T16:03:49.734215",
     "status": "completed"
    },
    "tags": []
   },
   "outputs": [
    {
     "name": "stderr",
     "output_type": "stream",
     "text": [
      "/usr/local/lib/python3.11/dist-packages/pandas/io/formats/format.py:1458: RuntimeWarning: invalid value encountered in greater\n",
      "  has_large_values = (abs_vals > 1e6).any()\n",
      "/usr/local/lib/python3.11/dist-packages/pandas/io/formats/format.py:1459: RuntimeWarning: invalid value encountered in less\n",
      "  has_small_values = ((abs_vals < 10 ** (-self.digits)) & (abs_vals > 0)).any()\n",
      "/usr/local/lib/python3.11/dist-packages/pandas/io/formats/format.py:1459: RuntimeWarning: invalid value encountered in greater\n",
      "  has_small_values = ((abs_vals < 10 ** (-self.digits)) & (abs_vals > 0)).any()\n"
     ]
    },
    {
     "data": {
      "text/html": [
       "<div>\n",
       "<style scoped>\n",
       "    .dataframe tbody tr th:only-of-type {\n",
       "        vertical-align: middle;\n",
       "    }\n",
       "\n",
       "    .dataframe tbody tr th {\n",
       "        vertical-align: top;\n",
       "    }\n",
       "\n",
       "    .dataframe thead th {\n",
       "        text-align: right;\n",
       "    }\n",
       "</style>\n",
       "<table border=\"1\" class=\"dataframe\">\n",
       "  <thead>\n",
       "    <tr style=\"text-align: right;\">\n",
       "      <th></th>\n",
       "      <th>mean_QUANTITY</th>\n",
       "      <th>std_TOTAL_REVENUE</th>\n",
       "    </tr>\n",
       "    <tr>\n",
       "      <th>MONTH_PERIOD</th>\n",
       "      <th></th>\n",
       "      <th></th>\n",
       "    </tr>\n",
       "  </thead>\n",
       "  <tbody>\n",
       "    <tr>\n",
       "      <th>Month Start</th>\n",
       "      <td>3.333333</td>\n",
       "      <td>430.639447</td>\n",
       "    </tr>\n",
       "    <tr>\n",
       "      <th>Other</th>\n",
       "      <td>1.000000</td>\n",
       "      <td>NaN</td>\n",
       "    </tr>\n",
       "  </tbody>\n",
       "</table>\n",
       "</div>"
      ],
      "text/plain": [
       "              mean_QUANTITY  std_TOTAL_REVENUE\n",
       "MONTH_PERIOD                                  \n",
       "Month Start        3.333333         430.639447\n",
       "Other              1.000000                NaN"
      ]
     },
     "execution_count": 18,
     "metadata": {},
     "output_type": "execute_result"
    }
   ],
   "source": [
    "df.groupby('MONTH_PERIOD').agg(mean_QUANTITY=('QUANTITY','mean'), std_TOTAL_REVENUE=('TOTAL_REVENUE','std'))"
   ]
  },
  {
   "cell_type": "code",
   "execution_count": 19,
   "id": "f3659429",
   "metadata": {
    "execution": {
     "iopub.execute_input": "2025-08-27T16:03:49.781049Z",
     "iopub.status.busy": "2025-08-27T16:03:49.780784Z",
     "iopub.status.idle": "2025-08-27T16:03:49.883421Z",
     "shell.execute_reply": "2025-08-27T16:03:49.882390Z"
    },
    "papermill": {
     "duration": 0.10992,
     "end_time": "2025-08-27T16:03:49.884673",
     "exception": false,
     "start_time": "2025-08-27T16:03:49.774753",
     "status": "completed"
    },
    "tags": []
   },
   "outputs": [
    {
     "data": {
      "image/png": "[encoded data removed]",
      "text/plain": [
       "<Figure size 640x480 with 1 Axes>"
      ]
     },
     "metadata": {},
     "output_type": "display_data"
    }
   ],
   "source": [
    "import matplotlib.pyplot as plt\n",
    "\n",
    "day_revenue=df.groupby('DAY_OF_WEEK')['TOTAL_REVENUE'].sum()\n",
    "labels = day_revenue.index\n",
    "sizes = day_revenue.values\n",
    "plt.pie(sizes, labels=labels , autopct='%1.1f%%')\n",
    "plt.title('Weekly Total Revenue')\n",
    "plt.show()"
   ]
  }
 ],
 "metadata": {
  "kaggle": {
   "accelerator": "none",
   "dataSources": [
    {
     "datasetId": 8153225,
     "sourceId": 12886781,
     "sourceType": "datasetVersion"
    }
   ],
   "dockerImageVersionId": 31089,
   "isGpuEnabled": false,
   "isInternetEnabled": false,
   "language": "python",
   "sourceType": "notebook"
  },
  "kernelspec": {
   "display_name": "Python 3",
   "language": "python",
   "name": "python3"
  },
  "language_info": {
   "codemirror_mode": {
    "name": "ipython",
    "version": 3
   },
   "file_extension": ".py",
   "mimetype": "text/x-python",
   "name": "python",
   "nbconvert_exporter": "python",
   "pygments_lexer": "ipython3",
   "version": "3.11.13"
  },
  "papermill": {
   "default_parameters": {},
   "duration": 11.401493,
   "end_time": "2025-08-27T16:03:50.510784",
   "environment_variables": {},
   "exception": null,
   "input_path": "__notebook__.ipynb",
   "output_path": "__notebook__.ipynb",
   "parameters": {},
   "start_time": "2025-08-27T16:03:39.109291",
   "version": "2.6.0"
  }
 },
 "nbformat": 4,
 "nbformat_minor": 5
}
